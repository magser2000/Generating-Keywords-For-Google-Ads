{
 "cells": [
  {
   "cell_type": "markdown",
   "id": "b562fd13",
   "metadata": {},
   "source": [
    "## 1. The Summary\n",
    "<p>Imagine working for a digital marketing agency, and the agency is approached by a massive discount retailer. They want to make sure analysts are proficient at making large campaigns for their website. The goal of this project is to create a prototype set of keywords for search campaigns for their athletics shoes department. The client says that they want us to generate keywords for the following products: </p>\n",
    "<ul>\n",
    "<li>trail shoes</li>\n",
    "<li>running shoes</li>\n",
    "<li>basketball shoes</li>\n",
    "<li>walking shoes</li>\n",
    "<li>cleats</li>\n",
    "<li>tennis shoes</ul>\n",
    "<p><strong>The Summary</strong>: Since the client is considered a low-cost retailer, they are offering many promotions and discounts. The analyst will need to focus on these keywords. They will also need to steer clear from keywords and topics that have to do with luxury, as their target customer is a price-sensitive customer. Because the company is also tight on budget, it would be most ideal to focus on a tightly targeted set of keywords and make sure they are all set to exact and phrase match rather than matching a large range of words without an exact phrase match.</p>\n",
    "<p>Based on the summary above the analyst will first need to generate a list of words, that together with the products given above would make for good keywords. Here are some examples:</p>\n",
    "<ul>\n",
    "<li>Products: trail shoes, running shoes, basketball shoes, walking shoes, cleats shoes, tennis shoes</li>\n",
    "<li>Words: buy, prices, promotion, promo, sale, discount, shop</li>\n",
    "</ul>\n",
    "<p>Here are some of the resulting keywords: 'buy shoes', 'shoes buy', 'discount shoes', 'shoes discount',\n",
    "              'buy basketball shoes', 'prices running shoes', 'prices walking shoes', 'cleat shoes', 'cleat prices', 'prices shoes', 'shoe prices' etc.</p>\n",
    "<p>As a final result, we want to have a DataFrame that looks something like this: </p>\n",
    "<table>\n",
    "<thead>\n",
    "<tr>\n",
    "<th>Campaign</th>\n",
    "<th>Ad Group</th>\n",
    "<th>Keyword</th>\n",
    "<th>Criterion Type</th>\n",
    "</tr>\n",
    "</thead>\n",
    "<tbody>\n",
    "<tr>\n",
    "<td>Campaign1</td>\n",
    "<td>AdGroup_1</td>\n",
    "<td>keyword 1a</td>\n",
    "<td>Exact</td>\n",
    "</tr>\n",
    "<tr>\n",
    "<td>Campaign1</td>\n",
    "<td>AdGroup_1</td>\n",
    "<td>keyword 1a</td>\n",
    "<td>Phrase</td>\n",
    "</tr>\n",
    "<tr>\n",
    "<td>Campaign1</td>\n",
    "<td>AdGroup_1</td>\n",
    "<td>keyword 1b</td>\n",
    "<td>Exact</td>\n",
    "</tr>\n",
    "<tr>\n",
    "<td>Campaign1</td>\n",
    "<td>AdGroup_1</td>\n",
    "<td>keyword 1b</td>\n",
    "<td>Phrase</td>\n",
    "</tr>\n",
    "<tr>\n",
    "<td>Campaign1</td>\n",
    "<td>AdGroup_2</td>\n",
    "<td>keyword 2a</td>\n",
    "<td>Exact</td>\n",
    "</tr>\n",
    "<tr>\n",
    "<td>Campaign1</td>\n",
    "<td>AdGroup_2</td>\n",
    "<td>keyword 2a</td>\n",
    "<td>Phrase</td>\n",
    "</tr>\n",
    "</tbody>\n",
    "</table>\n",
    "<p>The first step is to come up with a list of words that users might use to express their desire in buying low-cost shoes. Some have already been suggested above so they will be used here</p>"
   ]
  },
  {
   "cell_type": "code",
   "execution_count": 50,
   "id": "8139783c",
   "metadata": {},
   "outputs": [
    {
     "data": {
      "text/plain": [
       "['buy', 'price', 'discount', 'promotion', 'promo', 'shop', 'sale']"
      ]
     },
     "execution_count": 50,
     "metadata": {},
     "output_type": "execute_result"
    }
   ],
   "source": [
    "# List of words to pair with products\n",
    "words = ['buy', 'price', 'discount', 'promotion', 'promo', 'shop', 'sale']\n",
    "\n",
    "# Print list of words\n",
    "words"
   ]
  },
  {
   "cell_type": "markdown",
   "id": "ba1a2f46",
   "metadata": {},
   "source": [
    "## 2. Combine the words with the product names\n",
    "<p>Coming up with all the possible combinations of keywords can be difficult! But not for the analyst that knows how to translate campaign briefs into Python data structures and can think the resulting DataFrames that they need to create.</p>\n",
    "<p>Now that they have brainstormed the words that work well with the summary that they received, it is now time to combine the keywords with the product names to generate meaningful search keywords that will be useful to the client company. The analyst/data scientist want to combine every word with every product once before, and once after, as seen in the example above.</p>\n",
    "<p>As a quick recap, for the product 'shoes' and the words 'buy' and 'price' for example, we would want to generate the following combinations: </p>\n",
    "<p>buy shoes<br>\n",
    "shoe prices<br>\n",
    "prices shoes<br>\n",
    "shoes buy<br>\n",
    "…  </p>\n",
    "<p>and so on for all the words and products that we have.</p>"
   ]
  },
  {
   "cell_type": "code",
   "execution_count": 51,
   "id": "89c758cc",
   "metadata": {},
   "outputs": [
    {
     "name": "stdout",
     "output_type": "stream",
     "text": [
      "[['running shoes', 'running shoes buy'],\n",
      " ['running shoes', 'buy running shoes'],\n",
      " ['running shoes', 'running shoes price'],\n",
      " ['running shoes', 'price running shoes'],\n",
      " ['running shoes', 'running shoes discount'],\n",
      " ['running shoes', 'discount running shoes'],\n",
      " ['running shoes', 'running shoes promotion'],\n",
      " ['running shoes', 'promotion running shoes'],\n",
      " ['running shoes', 'running shoes promo'],\n",
      " ['running shoes', 'promo running shoes'],\n",
      " ['running shoes', 'running shoes shop'],\n",
      " ['running shoes', 'shop running shoes'],\n",
      " ['running shoes', 'running shoes sale'],\n",
      " ['running shoes', 'sale running shoes'],\n",
      " ['walking shoes', 'walking shoes buy'],\n",
      " ['walking shoes', 'buy walking shoes'],\n",
      " ['walking shoes', 'walking shoes price'],\n",
      " ['walking shoes', 'price walking shoes'],\n",
      " ['walking shoes', 'walking shoes discount'],\n",
      " ['walking shoes', 'discount walking shoes'],\n",
      " ['walking shoes', 'walking shoes promotion'],\n",
      " ['walking shoes', 'promotion walking shoes'],\n",
      " ['walking shoes', 'walking shoes promo'],\n",
      " ['walking shoes', 'promo walking shoes'],\n",
      " ['walking shoes', 'walking shoes shop'],\n",
      " ['walking shoes', 'shop walking shoes'],\n",
      " ['walking shoes', 'walking shoes sale'],\n",
      " ['walking shoes', 'sale walking shoes'],\n",
      " ['cleats', 'cleats buy'],\n",
      " ['cleats', 'buy cleats'],\n",
      " ['cleats', 'cleats price'],\n",
      " ['cleats', 'price cleats'],\n",
      " ['cleats', 'cleats discount'],\n",
      " ['cleats', 'discount cleats'],\n",
      " ['cleats', 'cleats promotion'],\n",
      " ['cleats', 'promotion cleats'],\n",
      " ['cleats', 'cleats promo'],\n",
      " ['cleats', 'promo cleats'],\n",
      " ['cleats', 'cleats shop'],\n",
      " ['cleats', 'shop cleats'],\n",
      " ['cleats', 'cleats sale'],\n",
      " ['cleats', 'sale cleats'],\n",
      " ['basketball shoes', 'basketball shoes buy'],\n",
      " ['basketball shoes', 'buy basketball shoes'],\n",
      " ['basketball shoes', 'basketball shoes price'],\n",
      " ['basketball shoes', 'price basketball shoes'],\n",
      " ['basketball shoes', 'basketball shoes discount'],\n",
      " ['basketball shoes', 'discount basketball shoes'],\n",
      " ['basketball shoes', 'basketball shoes promotion'],\n",
      " ['basketball shoes', 'promotion basketball shoes'],\n",
      " ['basketball shoes', 'basketball shoes promo'],\n",
      " ['basketball shoes', 'promo basketball shoes'],\n",
      " ['basketball shoes', 'basketball shoes shop'],\n",
      " ['basketball shoes', 'shop basketball shoes'],\n",
      " ['basketball shoes', 'basketball shoes sale'],\n",
      " ['basketball shoes', 'sale basketball shoes'],\n",
      " ['trail shoes', 'trail shoes buy'],\n",
      " ['trail shoes', 'buy trail shoes'],\n",
      " ['trail shoes', 'trail shoes price'],\n",
      " ['trail shoes', 'price trail shoes'],\n",
      " ['trail shoes', 'trail shoes discount'],\n",
      " ['trail shoes', 'discount trail shoes'],\n",
      " ['trail shoes', 'trail shoes promotion'],\n",
      " ['trail shoes', 'promotion trail shoes'],\n",
      " ['trail shoes', 'trail shoes promo'],\n",
      " ['trail shoes', 'promo trail shoes'],\n",
      " ['trail shoes', 'trail shoes shop'],\n",
      " ['trail shoes', 'shop trail shoes'],\n",
      " ['trail shoes', 'trail shoes sale'],\n",
      " ['trail shoes', 'sale trail shoes'],\n",
      " ['tennis shoes', 'tennis shoes buy'],\n",
      " ['tennis shoes', 'buy tennis shoes'],\n",
      " ['tennis shoes', 'tennis shoes price'],\n",
      " ['tennis shoes', 'price tennis shoes'],\n",
      " ['tennis shoes', 'tennis shoes discount'],\n",
      " ['tennis shoes', 'discount tennis shoes'],\n",
      " ['tennis shoes', 'tennis shoes promotion'],\n",
      " ['tennis shoes', 'promotion tennis shoes'],\n",
      " ['tennis shoes', 'tennis shoes promo'],\n",
      " ['tennis shoes', 'promo tennis shoes'],\n",
      " ['tennis shoes', 'tennis shoes shop'],\n",
      " ['tennis shoes', 'shop tennis shoes'],\n",
      " ['tennis shoes', 'tennis shoes sale'],\n",
      " ['tennis shoes', 'sale tennis shoes'],\n",
      " ['shoes', 'shoes buy'],\n",
      " ['shoes', 'buy shoes'],\n",
      " ['shoes', 'shoes price'],\n",
      " ['shoes', 'price shoes'],\n",
      " ['shoes', 'shoes discount'],\n",
      " ['shoes', 'discount shoes'],\n",
      " ['shoes', 'shoes promotion'],\n",
      " ['shoes', 'promotion shoes'],\n",
      " ['shoes', 'shoes promo'],\n",
      " ['shoes', 'promo shoes'],\n",
      " ['shoes', 'shoes shop'],\n",
      " ['shoes', 'shop shoes'],\n",
      " ['shoes', 'shoes sale'],\n",
      " ['shoes', 'sale shoes']]\n"
     ]
    }
   ],
   "source": [
    "products = ['running shoes', 'walking shoes', 'cleats', 'basketball shoes', 'trail shoes', 'tennis shoes', 'shoes']\n",
    "\n",
    "# Create an empty list for the keywords\n",
    "keywords_list = []\n",
    "\n",
    "# Loop through products\n",
    "for product in products:\n",
    "    # Loop through words\n",
    "    for word in words:\n",
    "        # Append combinations\n",
    "        keywords_list.append([product, product + ' ' + word])\n",
    "        keywords_list.append([product, word + ' ' + product])\n",
    "        \n",
    "# Inspect keyword list\n",
    "from pprint import pprint\n",
    "pprint(keywords_list)"
   ]
  },
  {
   "cell_type": "markdown",
   "id": "0a6fdec7",
   "metadata": {},
   "source": [
    "## 3. Convert the list of lists into a DataFrame\n",
    "<p>Now we want to convert this list of lists into a DataFrame so we can easily manipulate it and manage the final output.</p>"
   ]
  },
  {
   "cell_type": "code",
   "execution_count": 52,
   "id": "3bcc9a66",
   "metadata": {},
   "outputs": [
    {
     "name": "stdout",
     "output_type": "stream",
     "text": [
      "                0                       1\n",
      "0   running shoes       running shoes buy\n",
      "1   running shoes       buy running shoes\n",
      "2   running shoes     running shoes price\n",
      "3   running shoes     price running shoes\n",
      "4   running shoes  running shoes discount\n",
      "..            ...                     ...\n",
      "93          shoes             promo shoes\n",
      "94          shoes              shoes shop\n",
      "95          shoes              shop shoes\n",
      "96          shoes              shoes sale\n",
      "97          shoes              sale shoes\n",
      "\n",
      "[98 rows x 2 columns]\n"
     ]
    }
   ],
   "source": [
    "# Load library\n",
    "import pandas as pd\n",
    "\n",
    "# Create a DataFrame from list\n",
    "keywords_df = pd.DataFrame.from_records(keywords_list)\n",
    "\n",
    "# Print the keywords DataFrame to explore it\n",
    "print(keywords_df)"
   ]
  },
  {
   "cell_type": "markdown",
   "id": "524bb3e1",
   "metadata": {},
   "source": [
    "## 4. Rename the columns of the DataFrame\n",
    "<p>Before we can upload this table of keywords, we will need to give the columns meaningful names. If we inspect the DataFrame we just created above, we can see that the columns are currently named <code>0</code> and <code>1</code>. <code>Ad Group</code> (example: \"shoes\") and <code>Keyword</code> (example: \"shoes buy\") are much more appropriate names.</p>"
   ]
  },
  {
   "cell_type": "code",
   "execution_count": 53,
   "id": "d2d2d19f",
   "metadata": {},
   "outputs": [],
   "source": [
    "# Rename the columns of the DataFrame\n",
    "keywords_df = keywords_df.rename(columns={0: 'Ad Group', 1: 'Keyword'})"
   ]
  },
  {
   "cell_type": "markdown",
   "id": "fd2d7268",
   "metadata": {},
   "source": [
    "## 5. Add a campaign column\n",
    "<p>Now we need to add some additional information to our DataFrame. \n",
    "We need a new column called <code>Campaign</code> for the campaign name. We want campaign names to be descriptive of our group of keywords and products, so let's call this campaign 'SEM_Shoes'.</p>"
   ]
  },
  {
   "cell_type": "code",
   "execution_count": 54,
   "id": "c33c5dbd",
   "metadata": {},
   "outputs": [],
   "source": [
    "# Add a campaign column\n",
    "keywords_df['Campaign'] = 'SEM_Shoes'"
   ]
  },
  {
   "cell_type": "markdown",
   "id": "e4164a59",
   "metadata": {},
   "source": [
    "## 6. Create the match type column\n",
    "<p>There are different keyword match types. One is exact match, which is for matching the exact term or are close variations of that exact term. Another match type is broad match, which means ads may show on searches that include misspellings, synonyms, related searches, and other relevant variations.</p>\n",
    "<p>Straight from Google's AdWords <a href=\"https://support.google.com/google-ads/answer/2497836?hl=en\">documentation</a>:</p>\n",
    "<blockquote>\n",
    "  <p>In general, the broader the match type, the more traffic potential that keyword will have, since your ads may be triggered more often. Conversely, a narrower match type means that your ads may show less often—but when they do, they’re likely to be more related to someone’s search.</p>\n",
    "</blockquote>\n",
    "<p>Since the client is tight on budget, we want to make sure all the keywords are in exact match at the beginning.</p>"
   ]
  },
  {
   "cell_type": "code",
   "execution_count": 55,
   "id": "35360a01",
   "metadata": {},
   "outputs": [],
   "source": [
    "# Add a criterion type column\n",
    "keywords_df['Criterion Type'] = 'Exact'"
   ]
  },
  {
   "cell_type": "markdown",
   "id": "3009fe09",
   "metadata": {},
   "source": [
    "## 7. Duplicate all the keywords into 'phrase' match\n",
    "<p>The great thing about exact match is that it is very specific, and we can control the process very well. The tradeoff, however, is that:  </p>\n",
    "<ol>\n",
    "<li>The search volume for exact match is lower than other match types</li>\n",
    "<li>We can't possibly think of all the ways in which people search, and so, we are probably missing out on some high-quality keywords.</li>\n",
    "</ol>\n",
    "<p>So it's good to use another match called <em>phrase match</em> as a discovery mechanism to allow our ads to be triggered by keywords that include our exact match keywords, together with anything before (or after) them.</p>\n",
    "<p>Later on, when we launch the campaign, we can explore with modified broad match, broad match, and negative match types, for better visibility and control of our campaigns.</p>"
   ]
  },
  {
   "cell_type": "code",
   "execution_count": 56,
   "id": "43fb87a0",
   "metadata": {},
   "outputs": [
    {
     "name": "stderr",
     "output_type": "stream",
     "text": [
      "/var/folders/tq/09llbr9n1_jdscl4p9k2ly1c0000gn/T/ipykernel_66023/3058653912.py:8: FutureWarning: The frame.append method is deprecated and will be removed from pandas in a future version. Use pandas.concat instead.\n",
      "  keywords_df_final = keywords_df.append(keywords_phrase)\n"
     ]
    }
   ],
   "source": [
    "# Make a copy of the keywords DataFrame\n",
    "keywords_phrase = keywords_df.copy()\n",
    "\n",
    "# Change criterion type match to phrase\n",
    "keywords_phrase['Criterion Type'] = 'Phrase'\n",
    "\n",
    "# Append the DataFrames\n",
    "keywords_df_final = keywords_df.append(keywords_phrase)"
   ]
  },
  {
   "cell_type": "markdown",
   "id": "b209b02a",
   "metadata": {},
   "source": [
    "## 8. Save and summarize!\n",
    "<p>To upload our campaign, we need to save it as a CSV file. Then we will be able to import it to AdWords editor or BingAds editor. There is also the option of pasting the data into the editor if we want, but having easy access to the saved data is great so let's save to a CSV file!</p>\n",
    "<p>Looking at a summary of our campaign structure is good now that we've wrapped up our keyword work. We can do that by grouping by ad group and criterion type and counting by keyword. This summary shows us that we assigned specific keywords to specific ad groups, which are each part of a campaign. In essence, we are telling Google (or Bing, etc.) that we want any of the words in each ad group to trigger one of the ads in the same ad group. Separately, we will have to create another table for ads, which is a task for another day and would look something like this:</p>\n",
    "<table>\n",
    "<thead>\n",
    "<tr>\n",
    "<th>Campaign</th>\n",
    "<th>Ad Group</th>\n",
    "<th>Headline 1</th>\n",
    "<th>Headline 2</th>\n",
    "<th>Description</th>\n",
    "<th>Final URL</th>\n",
    "</tr>\n",
    "</thead>\n",
    "<tbody>\n",
    "<tr>\n",
    "<td>SEM_Shoes</td>\n",
    "<td>Shoes</td>\n",
    "<td>Looking for Quality Cleats?</td>\n",
    "<td>Explore Our Massive Collection</td>\n",
    "<td>30-day Returns With Free Delivery Within the US. Start Shopping Now</td>\n",
    "<td>DataCampShoes.com/cleats</td>\n",
    "</tr>\n",
    "<tr>\n",
    "<td>SEM_Shoes</td>\n",
    "<td>Shoes</td>\n",
    "<td>Looking for Affordable Shoes?</td>\n",
    "<td>Check Out Our Weekly Offers</td>\n",
    "<td>30-day Returns With Free Delivery Within the US. Start Shopping Now</td>\n",
    "<td>DataCampShoes.com/shoes</td>\n",
    "</tr>\n",
    "<tr>\n",
    "<td>SEM_Shoes</td>\n",
    "<td>Running Shoes</td>\n",
    "<td>Looking for Quality Running Shoes?</td>\n",
    "<td>Explore Our Massive Collection</td>\n",
    "<td>30-day Returns With Free Delivery Within the US. Start Shopping Now</td>\n",
    "<td>DataCampShoes.com/recliners</td>\n",
    "</tr>\n",
    "<tr>\n",
    "<td>SEM_shoes</td>\n",
    "<td>Walking Shoes</td>\n",
    "<td>Need Affordable Walking Shoes?</td>\n",
    "<td>Check Out Our Weekly Offers</td>\n",
    "<td>30-day Returns With Free Delivery Within the US. Start Shopping Now</td>\n",
    "<td>DataCampShoes.com/recliners</td>\n",
    "</tr>\n",
    "</tbody>\n",
    "</table>\n",
    "<p>Together, these tables get us the sample <strong>keywords -> ads -> landing pages</strong> mapping shown in the diagram below.</p>\n",
    "<p><img src=\"https://assets.datacamp.com/production/project_400/img/kwds_ads_lpages.png\" alt=\"Keywords-Ads-Landing pages flow\"></p>"
   ]
  },
  {
   "cell_type": "code",
   "execution_count": 57,
   "id": "6d98e6e8",
   "metadata": {},
   "outputs": [
    {
     "name": "stdout",
     "output_type": "stream",
     "text": [
      "Ad Group          Criterion Type\n",
      "basketball shoes  Exact             14\n",
      "                  Phrase            14\n",
      "cleats            Exact             14\n",
      "                  Phrase            14\n",
      "running shoes     Exact             14\n",
      "                  Phrase            14\n",
      "shoes             Exact             14\n",
      "                  Phrase            14\n",
      "tennis shoes      Exact             14\n",
      "                  Phrase            14\n",
      "trail shoes       Exact             14\n",
      "                  Phrase            14\n",
      "walking shoes     Exact             14\n",
      "                  Phrase            14\n",
      "Name: Keyword, dtype: int64\n"
     ]
    }
   ],
   "source": [
    "# Save the final keywords to a CSV file\n",
    "keywords_df_final.to_csv('keywords_shoes.csv', index=False)\n",
    "\n",
    "# View a summary of our campaign work\n",
    "summary = keywords_df_final.groupby(['Ad Group', 'Criterion Type'])['Keyword'].count()\n",
    "print(summary)"
   ]
  },
  {
   "cell_type": "code",
   "execution_count": 58,
   "id": "e56e1244",
   "metadata": {},
   "outputs": [],
   "source": [
    "# 9 Create Dummy Dataset"
   ]
  },
  {
   "cell_type": "code",
   "execution_count": 59,
   "id": "d9fe7b98",
   "metadata": {},
   "outputs": [
    {
     "data": {
      "text/html": [
       "<div>\n",
       "<style scoped>\n",
       "    .dataframe tbody tr th:only-of-type {\n",
       "        vertical-align: middle;\n",
       "    }\n",
       "\n",
       "    .dataframe tbody tr th {\n",
       "        vertical-align: top;\n",
       "    }\n",
       "\n",
       "    .dataframe thead th {\n",
       "        text-align: right;\n",
       "    }\n",
       "</style>\n",
       "<table border=\"1\" class=\"dataframe\">\n",
       "  <thead>\n",
       "    <tr style=\"text-align: right;\">\n",
       "      <th></th>\n",
       "      <th>Keyword</th>\n",
       "      <th>CTR</th>\n",
       "      <th>Conversion_Rate</th>\n",
       "      <th>CPC</th>\n",
       "    </tr>\n",
       "  </thead>\n",
       "  <tbody>\n",
       "    <tr>\n",
       "      <th>0</th>\n",
       "      <td>running shoes buy</td>\n",
       "      <td>54.881350</td>\n",
       "      <td>82.894003</td>\n",
       "      <td>2.274146</td>\n",
       "    </tr>\n",
       "    <tr>\n",
       "      <th>1</th>\n",
       "      <td>buy running shoes</td>\n",
       "      <td>71.518937</td>\n",
       "      <td>0.469548</td>\n",
       "      <td>2.543565</td>\n",
       "    </tr>\n",
       "    <tr>\n",
       "      <th>2</th>\n",
       "      <td>running shoes price</td>\n",
       "      <td>60.276338</td>\n",
       "      <td>67.781654</td>\n",
       "      <td>0.580292</td>\n",
       "    </tr>\n",
       "    <tr>\n",
       "      <th>3</th>\n",
       "      <td>price running shoes</td>\n",
       "      <td>54.488318</td>\n",
       "      <td>27.000797</td>\n",
       "      <td>4.344166</td>\n",
       "    </tr>\n",
       "    <tr>\n",
       "      <th>4</th>\n",
       "      <td>running shoes discount</td>\n",
       "      <td>42.365480</td>\n",
       "      <td>73.519402</td>\n",
       "      <td>3.117959</td>\n",
       "    </tr>\n",
       "  </tbody>\n",
       "</table>\n",
       "</div>"
      ],
      "text/plain": [
       "                  Keyword        CTR  Conversion_Rate       CPC\n",
       "0       running shoes buy  54.881350        82.894003  2.274146\n",
       "1       buy running shoes  71.518937         0.469548  2.543565\n",
       "2     running shoes price  60.276338        67.781654  0.580292\n",
       "3     price running shoes  54.488318        27.000797  4.344166\n",
       "4  running shoes discount  42.365480        73.519402  3.117959"
      ]
     },
     "execution_count": 59,
     "metadata": {},
     "output_type": "execute_result"
    }
   ],
   "source": [
    "# Generating CTR, Conversion Rate, and CPC for each keyword in the extracted list\n",
    "# Using only the combined keywords from the list for simplicity\n",
    "combined_keywords = [kw[1] for kw in keywords_list]\n",
    "\n",
    "# Creating dummy data for these keywords\n",
    "np.random.seed(0)  # Ensuring reproducibility\n",
    "ctr = np.random.rand(len(combined_keywords)) * 100  # CTR in percentage\n",
    "conversion_rate = np.random.rand(len(combined_keywords)) * 100  # Conversion rate in percentage\n",
    "cpc = np.random.rand(len(combined_keywords)) * 10  # Cost per click in dollars\n",
    "\n",
    "# Combining into a DataFrame\n",
    "keywords_data = pd.DataFrame({\n",
    "    'Keyword': combined_keywords,\n",
    "    'CTR': ctr,\n",
    "    'Conversion_Rate': conversion_rate,\n",
    "    'CPC': cpc\n",
    "})\n",
    "\n",
    "keywords_data.head()"
   ]
  },
  {
   "cell_type": "code",
   "execution_count": 60,
   "id": "a075e439",
   "metadata": {},
   "outputs": [
    {
     "data": {
      "text/html": [
       "<div>\n",
       "<style scoped>\n",
       "    .dataframe tbody tr th:only-of-type {\n",
       "        vertical-align: middle;\n",
       "    }\n",
       "\n",
       "    .dataframe tbody tr th {\n",
       "        vertical-align: top;\n",
       "    }\n",
       "\n",
       "    .dataframe thead th {\n",
       "        text-align: right;\n",
       "    }\n",
       "</style>\n",
       "<table border=\"1\" class=\"dataframe\">\n",
       "  <thead>\n",
       "    <tr style=\"text-align: right;\">\n",
       "      <th></th>\n",
       "      <th>Keyword</th>\n",
       "      <th>CTR</th>\n",
       "      <th>Conversion_Rate</th>\n",
       "      <th>CPC</th>\n",
       "    </tr>\n",
       "  </thead>\n",
       "  <tbody>\n",
       "    <tr>\n",
       "      <th>93</th>\n",
       "      <td>promo shoes</td>\n",
       "      <td>71.632720</td>\n",
       "      <td>20.984375</td>\n",
       "      <td>6.394725</td>\n",
       "    </tr>\n",
       "    <tr>\n",
       "      <th>94</th>\n",
       "      <td>shoes shop</td>\n",
       "      <td>28.940609</td>\n",
       "      <td>18.619301</td>\n",
       "      <td>3.685846</td>\n",
       "    </tr>\n",
       "    <tr>\n",
       "      <th>95</th>\n",
       "      <td>shop shoes</td>\n",
       "      <td>18.319136</td>\n",
       "      <td>94.437239</td>\n",
       "      <td>1.369003</td>\n",
       "    </tr>\n",
       "    <tr>\n",
       "      <th>96</th>\n",
       "      <td>shoes sale</td>\n",
       "      <td>58.651293</td>\n",
       "      <td>73.955080</td>\n",
       "      <td>8.221177</td>\n",
       "    </tr>\n",
       "    <tr>\n",
       "      <th>97</th>\n",
       "      <td>sale shoes</td>\n",
       "      <td>2.010755</td>\n",
       "      <td>49.045881</td>\n",
       "      <td>1.898479</td>\n",
       "    </tr>\n",
       "  </tbody>\n",
       "</table>\n",
       "</div>"
      ],
      "text/plain": [
       "        Keyword        CTR  Conversion_Rate       CPC\n",
       "93  promo shoes  71.632720        20.984375  6.394725\n",
       "94   shoes shop  28.940609        18.619301  3.685846\n",
       "95   shop shoes  18.319136        94.437239  1.369003\n",
       "96   shoes sale  58.651293        73.955080  8.221177\n",
       "97   sale shoes   2.010755        49.045881  1.898479"
      ]
     },
     "execution_count": 60,
     "metadata": {},
     "output_type": "execute_result"
    }
   ],
   "source": [
    "keywords_data.tail()"
   ]
  },
  {
   "cell_type": "code",
   "execution_count": 61,
   "id": "b9f51f61",
   "metadata": {},
   "outputs": [
    {
     "name": "stdout",
     "output_type": "stream",
     "text": [
      "932.7847312811916\n"
     ]
    }
   ],
   "source": [
    "# Proceeding with the performance prediction\n",
    "\n",
    "# Splitting the data into training and test sets\n",
    "X = keywords_data[['Conversion_Rate', 'CPC']]  # Features: Conversion Rate and CPC\n",
    "y = keywords_data['CTR']  # Target: CTR\n",
    "X_train, X_test, y_train, y_test = train_test_split(X, y, test_size=0.2, random_state=0)\n",
    "\n",
    "# Training a linear regression model\n",
    "model = LinearRegression()\n",
    "model.fit(X_train, y_train)\n",
    "\n",
    "# Predicting CTR on the test set\n",
    "y_pred = model.predict(X_test)\n",
    "\n",
    "# Calculating the mean squared error (MSE) for the model's performance\n",
    "mse = mean_squared_error(y_test, y_pred)\n",
    "print(mse)"
   ]
  },
  {
   "cell_type": "code",
   "execution_count": 62,
   "id": "0eae8c81",
   "metadata": {},
   "outputs": [
    {
     "data": {
      "text/plain": [
       "({'max_depth': None,\n",
       "  'min_samples_leaf': 4,\n",
       "  'min_samples_split': 9,\n",
       "  'n_estimators': 19},\n",
       " 975.8647284320941)"
      ]
     },
     "execution_count": 62,
     "metadata": {},
     "output_type": "execute_result"
    }
   ],
   "source": [
    "from sklearn.ensemble import RandomForestRegressor\n",
    "from sklearn.model_selection import RandomizedSearchCV\n",
    "import scipy.stats as stats\n",
    "\n",
    "# Setting up the Random Forest Regressor\n",
    "rf = RandomForestRegressor(random_state= 1)\n",
    "\n",
    "# Defining a range of hyperparameters for Random Search\n",
    "param_dist = {\n",
    "    'n_estimators': stats.randint(10, 200),  # Randomly chosen number of trees\n",
    "    'max_depth': [10, 20, 30, None],  # Maximum depth of the tree\n",
    "    'min_samples_split': stats.randint(2, 11),  # Min number of samples to split a node\n",
    "    'min_samples_leaf': stats.randint(1, 5)  # Min number of samples at a leaf node\n",
    "}\n",
    "\n",
    "# Setting up Random Search with Cross-Validation\n",
    "random_search = RandomizedSearchCV(estimator=rf, param_distributions=param_dist, n_iter=10, cv=3, \n",
    "                                   n_jobs=-1, scoring='neg_mean_squared_error', random_state=0)\n",
    "\n",
    "# Fitting the Random Search to the data\n",
    "random_search.fit(X_train, y_train)\n",
    "\n",
    "# Best parameters and MSE from Random Search\n",
    "best_params_random = random_search.best_params_\n",
    "best_mse_random = -random_search.best_score_  # Convert negative MSE to positive\n",
    "\n",
    "best_params_random, best_mse_random\n"
   ]
  },
  {
   "cell_type": "markdown",
   "id": "1e8a2335",
   "metadata": {},
   "source": [
    "## 8. Choosing a Model\n",
    "<p>It can be said that the most ideal model has the lowest MSE, in this case, a linear regression model and a random forest model are tested and the hyperparameters for the random forest model are optimized.</p>\n",
    "<ol>\n",
    "<li>Linear Regression Model MSE: 932.7847312811916</li>\n",
    "<li>Random Forest Model MSE: 975.8647284320941</li>\n",
    "</ol>\n",
    "<p>The linear regression appears to have a lower MSE. Therefore, it can be considered the more ideal model of the two. However, it should be noted that both models have a relatively high MSE. This could be due to hyperparameters and or the fact that the data used was randomly generated. It may be too random to show patterns that occur in real world googling patterns. This is perhaps the better explanation as hyperparameters are optimized already.</p>"
   ]
  },
  {
   "cell_type": "code",
   "execution_count": null,
   "id": "7022698f",
   "metadata": {},
   "outputs": [],
   "source": []
  },
  {
   "cell_type": "code",
   "execution_count": null,
   "id": "13978993",
   "metadata": {},
   "outputs": [],
   "source": []
  },
  {
   "cell_type": "code",
   "execution_count": null,
   "id": "e17d7566",
   "metadata": {},
   "outputs": [],
   "source": []
  }
 ],
 "metadata": {
  "kernelspec": {
   "display_name": "Python 3 (ipykernel)",
   "language": "python",
   "name": "python3"
  },
  "language_info": {
   "codemirror_mode": {
    "name": "ipython",
    "version": 3
   },
   "file_extension": ".py",
   "mimetype": "text/x-python",
   "name": "python",
   "nbconvert_exporter": "python",
   "pygments_lexer": "ipython3",
   "version": "3.9.13"
  }
 },
 "nbformat": 4,
 "nbformat_minor": 5
}
